{
 "cells": [
  {
   "cell_type": "code",
   "execution_count": 6,
   "id": "dd72f077",
   "metadata": {},
   "outputs": [],
   "source": [
    "import torch\n",
    "import time\n",
    "import torch.nn as nn\n",
    "import matplotlib.pyplot as plt\n",
    "import numpy as np"
   ]
  },
  {
   "cell_type": "code",
   "execution_count": 7,
   "id": "f61bac5e",
   "metadata": {},
   "outputs": [],
   "source": [
    "real_bedroom = torch.load('features/real_world_bedroom.pth')\n",
    "real_livingroom = torch.load('features/real_world_livingroom.pth')\n",
    "real_conference = torch.load('features/real_world_conference.pth')\n",
    "real_diningroom = torch.load('features/real_world_diningroom.pth')\n",
    "real_bedroom['labels'][:] = 0\n",
    "real_livingroom['labels'][:] = 1\n",
    "real_conference['labels'][:] = 2\n",
    "real_diningroom['labels'][:] = 3\n",
    "real_features = torch.cat([real_bedroom['features'], real_livingroom['features'], real_conference['features'], real_diningroom['features']])\n",
    "real_labels = torch.cat([real_bedroom['labels'], real_livingroom['labels'], real_conference['labels'], real_diningroom['labels']])\n",
    "torch.save(real_features, 'features/real_features.pth')\n",
    "torch.save(real_labels, 'features/real_labels.pth')"
   ]
  }
 ],
 "metadata": {
  "kernelspec": {
   "display_name": "Python 3 (ipykernel)",
   "language": "python",
   "name": "python3"
  },
  "language_info": {
   "codemirror_mode": {
    "name": "ipython",
    "version": 3
   },
   "file_extension": ".py",
   "mimetype": "text/x-python",
   "name": "python",
   "nbconvert_exporter": "python",
   "pygments_lexer": "ipython3",
   "version": "3.8.10"
  }
 },
 "nbformat": 4,
 "nbformat_minor": 5
}
